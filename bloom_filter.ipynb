{
 "cells": [
  {
   "cell_type": "code",
   "execution_count": 1,
   "id": "fc272b33",
   "metadata": {},
   "outputs": [],
   "source": [
    "import mmh3\n",
    "import hashlib"
   ]
  },
  {
   "cell_type": "code",
   "execution_count": 2,
   "id": "b088887d",
   "metadata": {},
   "outputs": [],
   "source": [
    "class BloomFilter:\n",
    "    def __init__(self, size, n_hash):\n",
    "        self.m = size\n",
    "        self.k = n_hash\n",
    "        self.n = 0\n",
    "        self.bloomFilter = [0]*size\n",
    "    def get_indices(self, item):\n",
    "        index = []\n",
    "        for i in range(1, self.k+1):\n",
    "            # hash functions\n",
    "            index.append((hash(item) + i*mmh3.hash(item)) % self.m)\n",
    "        return index\n",
    "    def add(self, item):\n",
    "        for i in self.get_indices(item):\n",
    "            self.bloomFilter[i] = 1\n",
    "        self.n += 1\n",
    "    def lookup(self, key):\n",
    "        for i in self.get_indices(key):\n",
    "            if self.bloomFilter[i] == 0:\n",
    "                return False\n",
    "        return True\n",
    "    def get_length(self):\n",
    "        return self.n\n",
    "    def get_fp_rate(self, train_data, test_data):\n",
    "        tp = fp = tn = fn = 0\n",
    "        for data in test_data:\n",
    "            is_found = self.lookup(data)\n",
    "            is_present = data in train_data\n",
    "            if is_found and is_present:\n",
    "                tp += 1\n",
    "            elif is_found and not is_present:\n",
    "                fp += 1\n",
    "            elif not is_found and not is_present:\n",
    "                tn += 1\n",
    "            elif not is_found and is_present:\n",
    "                fn += 1\n",
    "            fpr = fp/(fp + tn)\n",
    "        return fpr, tp, fp, tn, fn"
   ]
  },
  {
   "cell_type": "code",
   "execution_count": 3,
   "id": "35b26dd5",
   "metadata": {},
   "outputs": [
    {
     "name": "stdout",
     "output_type": "stream",
     "text": [
      "Size of filter: 100\n",
      "Number of hash functions: 2\n"
     ]
    }
   ],
   "source": [
    "bloom = BloomFilter(100, 2)\n",
    "print('Size of filter: {}'.format(bloom.m))\n",
    "print('Number of hash functions: {}'.format(bloom.k))"
   ]
  },
  {
   "cell_type": "code",
   "execution_count": 4,
   "id": "9e7a2984",
   "metadata": {},
   "outputs": [
    {
     "name": "stdout",
     "output_type": "stream",
     "text": [
      "number of items in the filter: 110\n"
     ]
    }
   ],
   "source": [
    "p1 = 'We hold these truths to be self-evident, that all men are created equal, \\\n",
    "that they are endowed, by their Creator, with certain unalienable rights, \\\n",
    "that among these are life, liberty, and the pursuit of happiness. \\\n",
    "That to secure these rights, governments are instituted among men, \\\n",
    "deriving their just powers from the consent of the governed, \\\n",
    "that whenever any form of government becomes destructive of these ends, \\\n",
    "it is the right of the people to alter or to abolish it, and to institute new government, \\\n",
    "laying its foundation on such principles, and organizing its powers in such form, \\\n",
    "as to them shall seem most likely to effect their safety and happiness.'\n",
    "\n",
    "p2 = 'He has forbidden his governors to pass laws of immediate and pressing importance, \\\n",
    "unless suspended in their operations till his assent should be obtained; and when so suspended, \\\n",
    "he has utterly neglected to attend to them.'\n",
    "\n",
    "txt1 = p1.split()\n",
    "txt2 = p2.split()\n",
    "\n",
    "for w in txt1:\n",
    "    bloom.add(w)\n",
    "print('number of items in the filter: {}'.format(bloom.n))"
   ]
  },
  {
   "cell_type": "code",
   "execution_count": 5,
   "id": "2e97fc92",
   "metadata": {},
   "outputs": [
    {
     "name": "stdout",
     "output_type": "stream",
     "text": [
      "items in the filter: [1, 1, 1, 0, 1, 1, 1, 1, 1, 1, 1, 1, 1, 1, 0, 1, 1, 1, 1, 1, 1, 1, 1, 1, 1, 1, 1, 1, 0, 1, 1, 0, 1, 1, 1, 1, 1, 1, 1, 0, 1, 0, 1, 1, 1, 0, 1, 1, 1, 0, 0, 1, 1, 1, 1, 0, 1, 1, 1, 0, 0, 1, 1, 0, 1, 1, 1, 1, 0, 1, 1, 1, 1, 0, 1, 1, 0, 1, 1, 1, 1, 1, 1, 1, 1, 1, 0, 1, 0, 0, 1, 1, 1, 1, 1, 1, 1, 1, 1, 1]\n",
      "Size of filter: 100\n"
     ]
    }
   ],
   "source": [
    "print('items in the filter: {}'.format(bloom.bloomFilter))\n",
    "print('Size of filter: {}'.format(bloom.m))"
   ]
  },
  {
   "cell_type": "code",
   "execution_count": 6,
   "id": "6df9fed1",
   "metadata": {},
   "outputs": [],
   "source": [
    "# prepare sets for experiments\n",
    "# in_p1_not_p2 = set([w for w in txt1 if w not in txt2])\n",
    "in_p2_not_p1 = [w for w in txt2 if w not in txt1]\n",
    "in_p1_in_p2 = set([w for w in txt1 if w in txt2])\n",
    "# p1_and_p2 = set([w for w in txt1 for w in txt2])\n",
    "train, test = txt1, txt2"
   ]
  },
  {
   "cell_type": "code",
   "execution_count": 7,
   "id": "f3a72a23",
   "metadata": {},
   "outputs": [
    {
     "name": "stdout",
     "output_type": "stream",
     "text": [
      "fpr =  0.8148148148148148\n",
      "fpr, tp, fp, tn, fn  = (0.8148148148148148, 9, 22, 5, 0)\n",
      "fp =  22 , tn =  5 , N =  27\n",
      "TN =  ['obtained;', 'when', 'so', 'he', 'utterly']\n",
      "FP =  ['He', 'has', 'forbidden', 'his', 'governors', 'pass', 'laws', 'immediate', 'pressing', 'importance,', 'unless', 'suspended', 'operations', 'till', 'his', 'assent', 'should', 'suspended,', 'has', 'neglected', 'attend', 'them.']\n"
     ]
    }
   ],
   "source": [
    "# Expectation: false positive rate, false positives, true negatives\n",
    "fp = tn = 0\n",
    "TN = []\n",
    "FP = []\n",
    "N = len(in_p2_not_p1)\n",
    "for w in in_p2_not_p1: \n",
    "    q = bloom.lookup(w)\n",
    "    if q: \n",
    "        fp += 1\n",
    "        FP.append(w)\n",
    "    else: \n",
    "        tn += 1 # False means absolute absent in the filter (true negatives)\n",
    "        TN.append(w)\n",
    "fpr = fp/(fp+tn)  # false positive rate\n",
    "\n",
    "# Results:\n",
    "print('fpr = ', fpr)\n",
    "print('fpr, tp, fp, tn, fn  = {}'.format(bloom.get_fp_rate(train, test)))\n",
    "print('fp = ', fp, ', tn = ', tn, ', N = ', N)\n",
    "print('TN = ', TN)\n",
    "print('FP = ', FP)"
   ]
  },
  {
   "cell_type": "code",
   "execution_count": 8,
   "id": "0746423a",
   "metadata": {},
   "outputs": [
    {
     "name": "stdout",
     "output_type": "stream",
     "text": [
      "tp =  9\n",
      "TP =  ['to', 'of', 'and', 'in', 'their', 'be', 'and', 'to', 'to']\n"
     ]
    }
   ],
   "source": [
    "# Expectation: should return all true positives\n",
    "TP = []\n",
    "tp = 0\n",
    "for w in test:\n",
    "    q = bloom.lookup(w)\n",
    "    if q and (w in in_p1_in_p2):\n",
    "        tp += 1\n",
    "        TP.append(w)\n",
    "print('tp = ', tp)\n",
    "print('TP = ', TP)"
   ]
  },
  {
   "cell_type": "code",
   "execution_count": null,
   "id": "2013333c",
   "metadata": {},
   "outputs": [],
   "source": []
  }
 ],
 "metadata": {
  "kernelspec": {
   "display_name": "Python 3 (ipykernel)",
   "language": "python",
   "name": "python3"
  },
  "language_info": {
   "codemirror_mode": {
    "name": "ipython",
    "version": 3
   },
   "file_extension": ".py",
   "mimetype": "text/x-python",
   "name": "python",
   "nbconvert_exporter": "python",
   "pygments_lexer": "ipython3",
   "version": "3.11.5"
  }
 },
 "nbformat": 4,
 "nbformat_minor": 5
}
